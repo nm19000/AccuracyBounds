{
 "cells": [
  {
   "cell_type": "code",
   "execution_count": 9,
   "id": "65e7fbf8",
   "metadata": {},
   "outputs": [],
   "source": [
    "from matplotlib import pyplot as plt\n",
    "import scipy.sparse as sp\n",
    "from scipy.sparse import load_npz\n",
    "import numpy as np  \n"
   ]
  },
  {
   "cell_type": "markdown",
   "id": "d70b0858",
   "metadata": {},
   "source": [
    "Checking whether there are big enough feasible sets"
   ]
  },
  {
   "cell_type": "code",
   "execution_count": 13,
   "id": "79d46f3a",
   "metadata": {},
   "outputs": [],
   "source": [
    "feas_app_path = '/localhome/iaga_dv/Dokumente/sat_data/patched_crossproc/results/feas_app_PS20_NL4000.npz'\n",
    "\n",
    "feas_app = load_npz(feas_app_path)\n",
    "n,m = feas_app.shape\n",
    "\n",
    "rows, cols = feas_app.nonzero()\n",
    "\n",
    "# Find diagonal elements where row == col\n",
    "diagonal_indices = rows == cols\n",
    "\n",
    "# Count non-diagonal elements\n",
    "non_diagonal_count = len(rows) - diagonal_indices.sum()\n",
    "\n",
    "#print(f\"Number of non-diagonal non-zero elements: {non_diagonal_count}\")"
   ]
  },
  {
   "cell_type": "markdown",
   "id": "d3fc1387",
   "metadata": {},
   "source": [
    "Checking  whether the feasible sets are inter images (not only intra-image)"
   ]
  },
  {
   "cell_type": "code",
   "execution_count": null,
   "id": "12b6f8bd",
   "metadata": {},
   "outputs": [],
   "source": []
  },
  {
   "cell_type": "markdown",
   "id": "77ca1d6f",
   "metadata": {},
   "source": [
    "# Image recomposition within the same patch feasible sets : visual checks"
   ]
  },
  {
   "cell_type": "code",
   "execution_count": null,
   "id": "e2593d0a",
   "metadata": {},
   "outputs": [],
   "source": []
  },
  {
   "cell_type": "markdown",
   "id": "3526d3eb",
   "metadata": {},
   "source": [
    "# 'Mini' experiment Nina"
   ]
  },
  {
   "cell_type": "code",
   "execution_count": null,
   "id": "aa3d7770",
   "metadata": {},
   "outputs": [],
   "source": []
  },
  {
   "cell_type": "markdown",
   "id": "54591589",
   "metadata": {},
   "source": [
    "# Other experiments, kersizes calculations"
   ]
  },
  {
   "cell_type": "code",
   "execution_count": null,
   "id": "619189f7",
   "metadata": {},
   "outputs": [],
   "source": []
  }
 ],
 "metadata": {
  "kernelspec": {
   "display_name": "SRTest",
   "language": "python",
   "name": "python3"
  },
  "language_info": {
   "codemirror_mode": {
    "name": "ipython",
    "version": 3
   },
   "file_extension": ".py",
   "mimetype": "text/x-python",
   "name": "python",
   "nbconvert_exporter": "python",
   "pygments_lexer": "ipython3",
   "version": "3.10.12"
  }
 },
 "nbformat": 4,
 "nbformat_minor": 5
}
