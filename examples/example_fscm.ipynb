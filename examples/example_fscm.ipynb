{
 "cells": [
  {
   "cell_type": "code",
   "execution_count": null,
   "metadata": {},
   "outputs": [],
   "source": [
    "import random\n",
    "import numpy as np  \n",
    "import torch\n",
    "import matplotlib.pyplot as plt\n",
    "from functools import partial\n",
    "from os.path import dirname, join as pjoin\n",
    "import scipy\n",
    "import scipy.io as sio\n",
    "\n",
    "from accuracy_bounds.data.generator_functions import random_uni_points_in_ball\n",
    "from accuracy_bounds.utils.visualizations import plot_wckersize_conv, plot_avkersize_conv, visualize_ball_3d\n",
    "from accuracy_bounds.algo.kernel_size import compute_wc_kernel_size, compute_av_kernel_size\n",
    "from accuracy_bounds.algo.projections import apply_forwardmodel\n",
    "from accuracy_bounds.data.dataset import GeneratorDataset\n",
    "from accuracy_bounds.utils.utils import set_seed"
   ]
  },
  {
   "cell_type": "markdown",
   "metadata": {},
   "source": [
    "### **Example 2:** Worst Case Kernel Size over Flouresence Microscopy Data"
   ]
  },
  {
   "cell_type": "code",
   "execution_count": null,
   "metadata": {},
   "outputs": [],
   "source": [
    "# Get the filename for an example .mat file from the  examples/flourescencemicroscopy directory.\n",
    "data_dir = './example_data/flourescencemicroscopy'"
   ]
  },
  {
   "cell_type": "markdown",
   "metadata": {},
   "source": [
    "### Construct Feasible Sets for 1 Example of Flouresence Microscopy Data (I=1)"
   ]
  },
  {
   "cell_type": "code",
   "execution_count": null,
   "metadata": {},
   "outputs": [],
   "source": [
    "def load_xy_components(mat_contents):\n",
    "    \"\"\" Load xyz components per example, i.e. one measurement w, from matrix.\n",
    "    Args:\n",
    "        -mat_contents, dictionary\n",
    "    Returns: \n",
    "        -feas: xyz component feasible set for measurement of matrix.\"\"\"\n",
    "\n",
    "    x = np.array(mat_contents['x_grnd']).flatten()\n",
    "    xm=np.array(mat_contents['x_mcmc']).flatten()\n",
    "    x=np.concatenate((x,xm), axis=None)\n",
    "\n",
    "    y = np.array(mat_contents['y_grnd']).flatten()\n",
    "    ym=np.array(mat_contents['y_mcmc']).flatten()\n",
    "    y=np.concatenate((y,ym), axis=None)\n",
    "\n",
    "    # z is zero currently\n",
    "    #z = np.array(mat_contents['z_grnd']).flatten()\n",
    "    #zm=np.array(mat_contents['z_mcmc']).flatten()\n",
    "    #z=np.concatenate((z,zm), axis=None)\n",
    "\n",
    "    #create feasible set for one measurement\n",
    "    f_xy= np.stack((x,y), axis=1)\n",
    "    return f_xy"
   ]
  },
  {
   "cell_type": "code",
   "execution_count": null,
   "metadata": {},
   "outputs": [],
   "source": [
    "def load_ch_components(mat_contents):\n",
    "    \"\"\" Load ch components per example, i.e. one measurement w, from matrix.\n",
    "    Args:\n",
    "        -mat_contents, dictionary\n",
    "    Returns: \n",
    "        -feas: ch component feasible set for measurement of matrix.\"\"\"\n",
    "\n",
    "    c = np.array(mat_contents['C_grnd']).flatten()\n",
    "    cm=np.array(mat_contents['C_mcmc']).flatten()\n",
    "    c=np.concatenate((c,cm), axis=None)\n",
    "\n",
    "    h = np.array(mat_contents['h_grnd']).flatten()\n",
    "    hm=np.array(mat_contents['h_mcmc']).flatten()\n",
    "    h=np.concatenate((h,hm), axis=None)\n",
    "\n",
    "    #create feasible set for example 001\n",
    "    f_ch= np.stack((c,h), axis=1)\n",
    "    return f_ch"
   ]
  },
  {
   "cell_type": "code",
   "execution_count": null,
   "metadata": {},
   "outputs": [],
   "source": [
    "# get list of xy feasible set data for each measurement, i.e. one example_00x.mat file corresponds to one measurement\n",
    "feasible_sets_list = []\n",
    "for i in range(1,6):      \n",
    "  mat = pjoin(data_dir, f\"example_00{i}.mat\")\n",
    "  # Load the .mat file contents\n",
    "  mat_contents = sio.loadmat(mat)\n",
    "  # get xy feasible set from example i\n",
    "  f_xy=load_xy_components(mat_contents)\n",
    "  # add feasible set to list of feasible sets\n",
    "  feasible_sets_list.append(f_xy)\n",
    "  print(f_xy)\n"
   ]
  },
  {
   "cell_type": "markdown",
   "metadata": {},
   "source": [
    "### **Example 2:** Kernel Sizes for Example Flouresence Microscopy Data"
   ]
  },
  {
   "cell_type": "code",
   "execution_count": null,
   "metadata": {},
   "outputs": [],
   "source": [
    "def compute_wc_av_diams_feas(feas):\n",
    "    \"\"\"\" Compute average and worst case diams with the l2 norm for one feasible set.\n",
    "    Args:\n",
    "        -feas: array of elements in one feasible set\n",
    "    Returns: \n",
    "        - diameter_mean_y: average diameter of feas (feasible set)\n",
    "        - num_feas: number of elements in feas (feasible set)\n",
    "        - max_diam_Fy: largest diameter of feas (feasible set)\n",
    "    \"\"\"\n",
    "    max_diam_Fy = 0\n",
    "    diameter_mean_y = 0\n",
    "    diam_y = []\n",
    "    num_feas = np.array(np.shape(feas))[0].astype(int)\n",
    "    # compute diameters\n",
    "    for h in range(0,num_feas,1):\n",
    "        for j in range(0,h+1,1):\n",
    "            #compute vectors in null space of F and their norm\n",
    "            dist_ns = feas[h]-feas[j]\n",
    "            diameter= np.linalg.norm(dist_ns, ord = 2)\n",
    "\n",
    "            #add to diam_y \n",
    "            diam_y.append(diameter)\n",
    "\n",
    "            #get ascending diams\n",
    "            if diameter > max_diam_Fy:\n",
    "                max_diam_Fy = diameter\n",
    "                            \n",
    "    # get mean over diams, with factor 2 due to symmetry of the norm of the compute vectors in null space of F (norm(x-z)=norm(z-x))\n",
    "    # and divided by num_feas^2 ad we have that many terms\n",
    "    if num_feas > 0:      \n",
    "        # compute 2 times sum over diams to the power p divided by num_feas^2\n",
    "        diameter_mean_y = 2*np.divide(np.sum(np.power(diam_y,2)), np.power(num_feas,2))\n",
    "    elif num_feas==0:\n",
    "        diameter_mean_y = 0  \n",
    "\n",
    "    return diameter_mean_y, num_feas, max_diam_Fy\n",
    "    "
   ]
  },
  {
   "cell_type": "markdown",
   "metadata": {},
   "source": [
    "### Compute worst case and average kernel size per example"
   ]
  },
  {
   "cell_type": "code",
   "execution_count": null,
   "metadata": {},
   "outputs": [],
   "source": [
    "for i in range(0,5):\n",
    "    print(compute_wc_av_diams_feas(feasible_sets_list[i]))"
   ]
  },
  {
   "cell_type": "markdown",
   "metadata": {},
   "source": [
    "This means that $2\\sqrt{Kersize(F,\\mathcal{M}_1,\\mathcal{E},2)_1}= \\frac{1}{N} \\sqrt{\\sum_{h,l=1}^{n} \\| \\Theta_l-\\Theta_h \\|^2}$, has the following values\n",
    "$$001:  1.4942e-11 m $$\n",
    "$$002:  6.8085e-12 m $$\n"
   ]
  },
  {
   "cell_type": "markdown",
   "metadata": {},
   "source": [
    "### Compute  worst case and average kernel size over all examples"
   ]
  },
  {
   "cell_type": "code",
   "execution_count": null,
   "metadata": {},
   "outputs": [],
   "source": [
    "\n",
    "def av_kernelsize(feasible_sets_list, p=2):\n",
    "    \"\"\"\n",
    "    Computes the average kernel size for a noisy inverse problem under Algorithm 2.\n",
    "\n",
    "    Args:\n",
    "        - feasible_sets_list: list of feasible sets\n",
    "        - p: order of the norm, default p=2 for MSE computation.\n",
    "\n",
    "    Returns:\n",
    "        Approximate average kernel size for for a set of input data samples.\n",
    "    \"\"\"\n",
    "\n",
    "    av_kersizep = 0\n",
    "    num_samples = len(feasible_sets_list)\n",
    "\n",
    "    for i in range(0,num_samples):\n",
    "        # compute diameter of feasible set for one input data point (num_feas will be used for statistics later on)\n",
    "        diameter_mean_y, num_feas, max_diam_Fy = compute_wc_av_diams_feas(feasible_sets_list[i])\n",
    "        #add diameters means for obtaining average kersize to the power p\n",
    "        av_kersizep = av_kersizep + diameter_mean_y\n",
    "        \n",
    "    # get mean over input data\n",
    "    av_kersize = np.divide(av_kersizep, num_samples)    \n",
    "    # take power 1/p to obtain average kersize\n",
    "    av_kersize =  np.power(av_kersize, 1/p)\n",
    "    \n",
    "    return av_kersize\n"
   ]
  },
  {
   "cell_type": "code",
   "execution_count": null,
   "metadata": {},
   "outputs": [],
   "source": [
    "for i in range(0,5):\n",
    "    print(compute_wc_av_diams_feas(feasible_sets_list[i]))"
   ]
  },
  {
   "cell_type": "code",
   "execution_count": null,
   "metadata": {},
   "outputs": [],
   "source": [
    "print(av_kernelsize(feasible_sets_list, p=2))"
   ]
  },
  {
   "cell_type": "markdown",
   "metadata": {},
   "source": [
    "This means for $I=5$, $$2\\sqrt{Kersize(F,\\mathcal{M}_1,\\mathcal{E},2)_5}= 0.002628e-6m$$."
   ]
  },
  {
   "cell_type": "code",
   "execution_count": null,
   "metadata": {},
   "outputs": [],
   "source": [
    "def wc_kernelsize(feasible_sets_list, p=2):\n",
    "    \"\"\"\n",
    "    Computes the worst-case kernel size for noisy inverse problem using Algorithm 1.\n",
    "\n",
    "    Args:\n",
    "        - feasible_sets_list: list of feasible sets\n",
    "        - p: order of the norm, default p=2 for MSE computation.\n",
    "\n",
    "    Returns:\n",
    "        Approximate worst-case kernel size for a set of input data samples.\n",
    "    \"\"\"\n",
    "    wc_kersize =0\n",
    "\n",
    "    num_samples = len(feasible_sets_list)\n",
    "\n",
    "    for i in range(0,num_samples):\n",
    "        # compute diameter of feasible set for one input data point\n",
    "        diameter_mean_y, num_feas, max_diam_Fy = compute_wc_av_diams_feas(feasible_sets_list[i])\n",
    "        if max_diam_Fy > wc_kersize:\n",
    "            wc_kersize = max_diam_Fy\n",
    "    \n",
    "    return wc_kersize"
   ]
  },
  {
   "cell_type": "code",
   "execution_count": null,
   "metadata": {},
   "outputs": [],
   "source": [
    "print(wc_kernelsize(feasible_sets_list, p=2))"
   ]
  },
  {
   "cell_type": "markdown",
   "metadata": {},
   "source": [
    "# TODOS: use visualization tool for visualizing x y z positions per example (i.e. measurement)\n",
    "# test code"
   ]
  },
  {
   "cell_type": "markdown",
   "metadata": {},
   "source": [
    "#### Collect Data"
   ]
  },
  {
   "cell_type": "code",
   "execution_count": null,
   "metadata": {},
   "outputs": [],
   "source": [
    "target_data = random_uni_points_in_ball(num_points=num_points, radius=radius+epsilon, center=center, dim=3)                       \n",
    "visualize_ball_3d(points=target_data, radius=radius, center=center, title=\"Target Data Points\")"
   ]
  },
  {
   "cell_type": "markdown",
   "metadata": {},
   "source": [
    "### Setup Linear Forward Operator and analytical Kernel Size"
   ]
  },
  {
   "cell_type": "code",
   "execution_count": null,
   "metadata": {},
   "outputs": [],
   "source": [
    "# Toy forward operator\n",
    "A = np.diag([1, 1, 0])  # Transformation matrix\n",
    "\n",
    "#analytical wc kersize for ball around 0 with radius r+epsilon\n",
    "wc_kernel_size_analytical = 2*radius+2*epsilon\n",
    "#analytical av kersize for ball around 0 with radius r+epsilon sampled with uniform distribution\n",
    "av_kernel_size_analytical = np.power((radius+epsilon),1/3)\n",
    "\n",
    "# Distance measure\n",
    "p=2\n",
    "q=2\n",
    "\n",
    "input_data = apply_forwardmodel(A, target_data)"
   ]
  },
  {
   "cell_type": "code",
   "execution_count": null,
   "metadata": {},
   "outputs": [],
   "source": [
    "visualize_ball_3d(points=input_data, radius=radius, center=center, title=\"Inputs Data Points (Z axis is 0)\")"
   ]
  },
  {
   "cell_type": "markdown",
   "metadata": {},
   "source": [
    "### Setup WC-Kernal Size Computation"
   ]
  },
  {
   "cell_type": "code",
   "execution_count": null,
   "metadata": {},
   "outputs": [],
   "source": [
    "max_k = 300\n",
    "input_target_pairs = 500"
   ]
  },
  {
   "cell_type": "markdown",
   "metadata": {},
   "source": [
    "##### Compute Worst-Case Kernel Size"
   ]
  },
  {
   "cell_type": "code",
   "execution_count": null,
   "metadata": {},
   "outputs": [],
   "source": [
    "wc_kersizes = compute_wc_kernel_size(A, input_data[:input_target_pairs], target_data[:input_target_pairs], p, q, epsilon, max_k)\n",
    "wc_kersize_final = wc_kersizes[-1]\n",
    "\n",
    "plot_wckersize_conv(wc_kersize_final, wc_kersizes, wc_kernel_size_analytical, max_k)\n"
   ]
  },
  {
   "cell_type": "markdown",
   "metadata": {},
   "source": [
    "### Setup AV-Kernal Size Computation"
   ]
  },
  {
   "cell_type": "code",
   "execution_count": null,
   "metadata": {},
   "outputs": [],
   "source": [
    "max_k = 150\n",
    "input_target_pairs = 1000"
   ]
  },
  {
   "cell_type": "code",
   "execution_count": null,
   "metadata": {},
   "outputs": [],
   "source": [
    "\n",
    "av_kersizes = compute_av_kernel_size(A, input_data[:input_target_pairs], target_data[:input_target_pairs], p, q, epsilon, max_k)\n",
    "\n",
    "av_kersizef = av_kersizes[-1]\n",
    "\n",
    "plot_avkersize_conv(av_kersizef, av_kersizes, av_kernel_size_analytical, max_k)"
   ]
  }
 ],
 "metadata": {
  "kernelspec": {
   "display_name": "base",
   "language": "python",
   "name": "python3"
  },
  "language_info": {
   "codemirror_mode": {
    "name": "ipython",
    "version": 3
   },
   "file_extension": ".py",
   "mimetype": "text/x-python",
   "name": "python",
   "nbconvert_exporter": "python",
   "pygments_lexer": "ipython3",
   "version": "3.12.2"
  }
 },
 "nbformat": 4,
 "nbformat_minor": 2
}
