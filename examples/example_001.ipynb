{
 "cells": [
  {
   "cell_type": "code",
   "execution_count": 1,
   "metadata": {},
   "outputs": [
    {
     "ename": "ModuleNotFoundError",
     "evalue": "No module named 'feasible_sets'",
     "output_type": "error",
     "traceback": [
      "\u001b[0;31m---------------------------------------------------------------------------\u001b[0m",
      "\u001b[0;31mModuleNotFoundError\u001b[0m                       Traceback (most recent call last)",
      "Cell \u001b[0;32mIn[1], line 13\u001b[0m\n\u001b[1;32m      8\u001b[0m \u001b[38;5;66;03m##import sys\u001b[39;00m\n\u001b[1;32m      9\u001b[0m \u001b[38;5;66;03m#sys.path.append(os.path.abspath('./src/accuracy_bounds/utils/visualizations'))\u001b[39;00m\n\u001b[1;32m     10\u001b[0m \u001b[38;5;66;03m#sys.path.append(os.path.abspath('src/accuracy_bounds/inverseproblems/kersize_compute'))\u001b[39;00m\n\u001b[1;32m     12\u001b[0m \u001b[38;5;28;01mfrom\u001b[39;00m \u001b[38;5;21;01maccuracy_bounds\u001b[39;00m\u001b[38;5;21;01m.\u001b[39;00m\u001b[38;5;21;01mutils\u001b[39;00m\u001b[38;5;21;01m.\u001b[39;00m\u001b[38;5;21;01mvisualizations\u001b[39;00m \u001b[38;5;28;01mimport\u001b[39;00m plot_wckersize_conv, plot_avkersize_conv, visualize_ball_3d\n\u001b[0;32m---> 13\u001b[0m \u001b[38;5;28;01mfrom\u001b[39;00m \u001b[38;5;21;01maccuracy_bounds\u001b[39;00m\u001b[38;5;21;01m.\u001b[39;00m\u001b[38;5;21;01minverseproblems\u001b[39;00m\u001b[38;5;21;01m.\u001b[39;00m\u001b[38;5;21;01mkersize_compute\u001b[39;00m \u001b[38;5;28;01mimport\u001b[39;00m compute_wc_kernel_size, compute_av_kernel_size\n\u001b[1;32m     14\u001b[0m \u001b[38;5;28;01mfrom\u001b[39;00m \u001b[38;5;21;01maccuracy_bounds\u001b[39;00m\u001b[38;5;21;01m.\u001b[39;00m\u001b[38;5;21;01mutils\u001b[39;00m\u001b[38;5;21;01m.\u001b[39;00m\u001b[38;5;21;01mutils\u001b[39;00m \u001b[38;5;28;01mimport\u001b[39;00m apply_forwardmodel, set_seed\n\u001b[1;32m     16\u001b[0m \u001b[38;5;28;01mfrom\u001b[39;00m \u001b[38;5;21;01mdata\u001b[39;00m\u001b[38;5;21;01m.\u001b[39;00m\u001b[38;5;21;01mlinear_algebra_examples\u001b[39;00m\u001b[38;5;21;01m.\u001b[39;00m\u001b[38;5;21;01mgenerator_functions\u001b[39;00m \u001b[38;5;28;01mimport\u001b[39;00m random_uni_points_in_ball\n",
      "File \u001b[0;32m~/Documents/CodeProjects/UPE/universal-performance-estimator/src/accuracy_bounds/inverseproblems/__init__.py:5\u001b[0m\n\u001b[1;32m      1\u001b[0m \u001b[38;5;28;01mfrom\u001b[39;00m \u001b[38;5;21;01m.\u001b[39;00m\u001b[38;5;21;01mutils\u001b[39;00m \u001b[38;5;28;01mimport\u001b[39;00m (\n\u001b[1;32m      2\u001b[0m     projection_nullspace,\n\u001b[1;32m      3\u001b[0m )\n\u001b[0;32m----> 5\u001b[0m \u001b[38;5;28;01mfrom\u001b[39;00m \u001b[38;5;21;01m.\u001b[39;00m\u001b[38;5;21;01mkersize_compute\u001b[39;00m \u001b[38;5;28;01mimport\u001b[39;00m (\n\u001b[1;32m      6\u001b[0m     wc_kernelsize_nosym_batch_cuda, \n\u001b[1;32m      7\u001b[0m     wc_kernelsize_sym_batch_cuda,\n\u001b[1;32m      8\u001b[0m     wc_kernelsize_nosym_perbatch_cuda, \n\u001b[1;32m      9\u001b[0m     wc_kernelsize_nosym_crossbatch_cuda,\n\u001b[1;32m     10\u001b[0m     av_kernelsize,\n\u001b[1;32m     11\u001b[0m     wc_kernelsize,\n\u001b[1;32m     12\u001b[0m     diams_feasibleset_inv_sym,\n\u001b[1;32m     13\u001b[0m     diams_feasibleset_inv_sym,\n\u001b[1;32m     14\u001b[0m     diams_feasibleset_inv,\n\u001b[1;32m     15\u001b[0m     compute_feasible_set\n\u001b[1;32m     16\u001b[0m     )\n\u001b[1;32m     18\u001b[0m __all__ \u001b[38;5;241m=\u001b[39m (\n\u001b[1;32m     19\u001b[0m     \u001b[38;5;124m\"\u001b[39m\u001b[38;5;124mprojection_nullspace\u001b[39m\u001b[38;5;124m\"\u001b[39m,\n\u001b[1;32m     20\u001b[0m )\n",
      "File \u001b[0;32m~/Documents/CodeProjects/UPE/universal-performance-estimator/src/accuracy_bounds/inverseproblems/kersize_compute.py:7\u001b[0m\n\u001b[1;32m      5\u001b[0m \u001b[38;5;28;01mfrom\u001b[39;00m \u001b[38;5;21;01mjoblib\u001b[39;00m \u001b[38;5;28;01mimport\u001b[39;00m Parallel, delayed\n\u001b[1;32m      6\u001b[0m \u001b[38;5;28;01mfrom\u001b[39;00m \u001b[38;5;21;01mpdb\u001b[39;00m \u001b[38;5;28;01mimport\u001b[39;00m set_trace\n\u001b[0;32m----> 7\u001b[0m \u001b[38;5;28;01mfrom\u001b[39;00m \u001b[38;5;21;01mfeasible_sets\u001b[39;00m \u001b[38;5;28;01mimport\u001b[39;00m compute_feasible_set_linear_forwardmodel\n\u001b[1;32m     11\u001b[0m \u001b[38;5;28;01mdef\u001b[39;00m \u001b[38;5;21mdiams_feasibleset_inv\u001b[39m(A, input_data_point, target_data, p, epsilon):\n\u001b[1;32m     12\u001b[0m \u001b[38;5;250m    \u001b[39m\u001b[38;5;124;03m\"\"\"\u001b[39;00m\n\u001b[1;32m     13\u001b[0m \u001b[38;5;124;03m    Implements the iterative algorithm for diameter estimation of the feasible set for a noisy inverse problem. \u001b[39;00m\n\u001b[1;32m     14\u001b[0m \u001b[38;5;124;03m    Computes diameter based on possible target data points for one input point.\u001b[39;00m\n\u001b[0;32m   (...)\u001b[0m\n\u001b[1;32m     27\u001b[0m \u001b[38;5;124;03m                                        consisting of all possible target data points, for one input point.\u001b[39;00m\n\u001b[1;32m     28\u001b[0m \u001b[38;5;124;03m    \"\"\"\u001b[39;00m\n",
      "\u001b[0;31mModuleNotFoundError\u001b[0m: No module named 'feasible_sets'"
     ]
    }
   ],
   "source": [
    "import os\n",
    "import random\n",
    "import numpy as np\n",
    "import torch\n",
    "import matplotlib.pyplot as plt\n",
    "from functools import partial\n",
    "\n",
    "##import sys\n",
    "#sys.path.append(os.path.abspath('./src/accuracy_bounds/utils/visualizations'))\n",
    "#sys.path.append(os.path.abspath('src/accuracy_bounds/inverseproblems/kersize_compute'))\n",
    "\n",
    "from accuracy_bounds.utils.visualizations import plot_wckersize_conv, plot_avkersize_conv, visualize_ball_3d\n",
    "from accuracy_bounds.inverseproblems.kersize_compute import compute_wc_kernel_size, compute_av_kernel_size\n",
    "from accuracy_bounds.utils.utils import apply_forwardmodel, set_seed\n",
    "\n",
    "from data.linear_algebra_examples.generator_functions import random_uni_points_in_ball\n",
    "from data.linear_algebra_examples.dataset_generator import GeneratorDataset\n"
   ]
  },
  {
   "cell_type": "markdown",
   "metadata": {},
   "source": [
    "### **Toy Example 1:** Worst Case Kernel Size over Uniform Points in 3D Ball "
   ]
  },
  {
   "cell_type": "code",
   "execution_count": null,
   "metadata": {},
   "outputs": [],
   "source": [
    "num_points = 1000\n",
    "radius = 2\n",
    "center = (0,0,0)\n",
    "dim = 3\n",
    "epsilon=1e-1\n",
    "seed = 43\n",
    "\n",
    "set_seed(seed)\n"
   ]
  },
  {
   "cell_type": "markdown",
   "metadata": {},
   "source": [
    "#### Collect Data"
   ]
  },
  {
   "cell_type": "code",
   "execution_count": null,
   "metadata": {},
   "outputs": [],
   "source": [
    "target_data = random_uni_points_in_ball(num_points=num_points, radius=radius+epsilon, center=center, dim=3)                       \n",
    "visualize_ball_3d(points=target_data, radius=radius, center=center, title=\"Target Data Points\")"
   ]
  },
  {
   "cell_type": "markdown",
   "metadata": {},
   "source": [
    "### Setup Linear Forward Operator and analytical Kernel Size"
   ]
  },
  {
   "cell_type": "code",
   "execution_count": null,
   "metadata": {},
   "outputs": [],
   "source": [
    "# Toy forward operator\n",
    "A = np.diag([1, 1, 0])  # Transformation matrix\n",
    "\n",
    "#analytical wc kersize for ball around 0 with radius r+epsilon\n",
    "wc_kernel_size_analytical = 2*radius+2*epsilon\n",
    "#analytical av kersize for ball around 0 with radius r+epsilon sampled with uniform distribution\n",
    "av_kernel_size_analytical = np.power((radius+epsilon),1/3)\n",
    "\n",
    "# Distance measure\n",
    "p=2\n",
    "q=2\n",
    "\n",
    "input_data = apply_forwardmodel(A, target_data)"
   ]
  },
  {
   "cell_type": "code",
   "execution_count": null,
   "metadata": {},
   "outputs": [],
   "source": [
    "visualize_ball_3d(points=input_data, radius=radius, center=center, title=\"Inputs Data Points (Z axis is 0)\")"
   ]
  },
  {
   "cell_type": "markdown",
   "metadata": {},
   "source": [
    "### Setup WC-Kernal Size Computation"
   ]
  },
  {
   "cell_type": "code",
   "execution_count": null,
   "metadata": {},
   "outputs": [],
   "source": [
    "max_k = 300\n",
    "input_target_pairs = 500"
   ]
  },
  {
   "cell_type": "markdown",
   "metadata": {},
   "source": [
    "##### Compute Worst-Case Kernel Size"
   ]
  },
  {
   "cell_type": "code",
   "execution_count": null,
   "metadata": {},
   "outputs": [],
   "source": [
    "wc_kersizes = compute_wc_kernel_size(A, input_data[:input_target_pairs], target_data[:input_target_pairs], p, q, epsilon, max_k)\n",
    "wc_kersize_final = wc_kersizes[-1]\n",
    "\n",
    "plot_wckersize_conv(wc_kersize_final, wc_kersizes, wc_kernel_size_analytical, max_k)\n"
   ]
  },
  {
   "cell_type": "markdown",
   "metadata": {},
   "source": [
    "### Setup AV-Kernal Size Computation"
   ]
  },
  {
   "cell_type": "code",
   "execution_count": null,
   "metadata": {},
   "outputs": [],
   "source": [
    "max_k = 150\n",
    "input_target_pairs = 1000"
   ]
  },
  {
   "cell_type": "code",
   "execution_count": null,
   "metadata": {},
   "outputs": [],
   "source": [
    "\n",
    "av_kersizes = compute_av_kernel_size(A, input_data[:input_target_pairs], target_data[:input_target_pairs], p, q, epsilon, max_k)\n",
    "\n",
    "av_kersizef = av_kersizes[-1]\n",
    "\n",
    "plot_avkersize_conv(av_kersizef, av_kersizes, av_kernel_size_analytical, max_k)"
   ]
  }
 ],
 "metadata": {
  "kernelspec": {
   "display_name": "base",
   "language": "python",
   "name": "python3"
  },
  "language_info": {
   "codemirror_mode": {
    "name": "ipython",
    "version": 3
   },
   "file_extension": ".py",
   "mimetype": "text/x-python",
   "name": "python",
   "nbconvert_exporter": "python",
   "pygments_lexer": "ipython3",
   "version": "3.12.7"
  }
 },
 "nbformat": 4,
 "nbformat_minor": 2
}
