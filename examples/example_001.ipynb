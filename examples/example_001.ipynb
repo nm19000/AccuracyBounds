{
 "cells": [
  {
   "cell_type": "code",
   "execution_count": null,
   "metadata": {},
   "outputs": [],
   "source": [
    "import random\n",
    "import numpy as np\n",
    "import torch\n",
    "import matplotlib.pyplot as plt\n",
    "from functools import partial\n",
    "\n",
    "from examples.data.linear_algebra_examples.generator_functions import random_uni_points_in_ball\n",
    "from src.accuracy_bounds.utils.visualizations import plot_wckersize_conv, plot_avkersize_conv, visualize_ball_3d\n",
    "from src.accuracy_bounds.inverseproblems.kersize_compute import compute_wc_kernel_size, compute_av_kernel_size\n",
    "from src.accuracy_bounds.utils.utils import apply_forwardmodel, set_seed\n",
    "from examples.data.linear_algebra_examples.dataset_generator import GeneratorDataset\n"
   ]
  },
  {
   "cell_type": "markdown",
   "metadata": {},
   "source": [
    "### **Toy Example 1:** Worst Case Kernel Size over Uniform Points in 3D Ball "
   ]
  },
  {
   "cell_type": "code",
   "execution_count": null,
   "metadata": {},
   "outputs": [],
   "source": [
    "num_points = 1000\n",
    "radius = 2\n",
    "center = (0,0,0)\n",
    "dim = 3\n",
    "epsilon=1e-1\n",
    "seed = 43\n",
    "\n",
    "set_seed(seed)\n"
   ]
  },
  {
   "cell_type": "markdown",
   "metadata": {},
   "source": [
    "#### Collect Data"
   ]
  },
  {
   "cell_type": "code",
   "execution_count": null,
   "metadata": {},
   "outputs": [],
   "source": [
    "target_data = random_uni_points_in_ball(num_points=num_points, radius=radius+epsilon, center=center, dim=3)                       \n",
    "visualize_ball_3d(points=target_data, radius=radius, center=center, title=\"Target Data Points\")"
   ]
  },
  {
   "cell_type": "markdown",
   "metadata": {},
   "source": [
    "### Setup Linear Forward Operator and analytical Kernel Size"
   ]
  },
  {
   "cell_type": "code",
   "execution_count": null,
   "metadata": {},
   "outputs": [],
   "source": [
    "# Toy forward operator\n",
    "A = np.diag([1, 1, 0])  # Transformation matrix\n",
    "\n",
    "#analytical wc kersize for ball around 0 with radius r+epsilon\n",
    "wc_kernel_size_analytical = 2*radius+2*epsilon\n",
    "#analytical av kersize for ball around 0 with radius r+epsilon sampled with uniform distribution\n",
    "av_kernel_size_analytical = np.power((radius+epsilon),1/3)\n",
    "\n",
    "# Distance measure\n",
    "p=2\n",
    "q=2\n",
    "\n",
    "input_data = apply_forwardmodel(A, target_data)"
   ]
  },
  {
   "cell_type": "code",
   "execution_count": null,
   "metadata": {},
   "outputs": [],
   "source": [
    "visualize_ball_3d(points=input_data, radius=radius, center=center, title=\"Inputs Data Points (Z axis is 0)\")"
   ]
  },
  {
   "cell_type": "markdown",
   "metadata": {},
   "source": [
    "### Setup WC-Kernal Size Computation"
   ]
  },
  {
   "cell_type": "code",
   "execution_count": null,
   "metadata": {},
   "outputs": [],
   "source": [
    "max_k = 300\n",
    "input_target_pairs = 500"
   ]
  },
  {
   "cell_type": "markdown",
   "metadata": {},
   "source": [
    "##### Compute Worst-Case Kernel Size"
   ]
  },
  {
   "cell_type": "code",
   "execution_count": null,
   "metadata": {},
   "outputs": [],
   "source": [
    "wc_kersizes = compute_wc_kernel_size(A, input_data[:input_target_pairs], target_data[:input_target_pairs], p, q, epsilon, max_k)\n",
    "wc_kersize_final = wc_kersizes[-1]\n",
    "\n",
    "plot_wckersize_conv(wc_kersize_final, wc_kersizes, wc_kernel_size_analytical, max_k)\n"
   ]
  },
  {
   "cell_type": "markdown",
   "metadata": {},
   "source": [
    "### Setup AV-Kernal Size Computation"
   ]
  },
  {
   "cell_type": "code",
   "execution_count": null,
   "metadata": {},
   "outputs": [],
   "source": [
    "max_k = 150\n",
    "input_target_pairs = 1000"
   ]
  },
  {
   "cell_type": "code",
   "execution_count": null,
   "metadata": {},
   "outputs": [],
   "source": [
    "\n",
    "av_kersizes = compute_av_kernel_size(A, input_data[:input_target_pairs], target_data[:input_target_pairs], p, q, epsilon, max_k)\n",
    "\n",
    "av_kersizef = av_kersizes[-1]\n",
    "\n",
    "plot_avkersize_conv(av_kersizef, av_kersizes, av_kernel_size_analytical, max_k)"
   ]
  }
 ],
 "metadata": {
  "kernelspec": {
   "display_name": "base",
   "language": "python",
   "name": "python3"
  },
  "language_info": {
   "codemirror_mode": {
    "name": "ipython",
    "version": 3
   },
   "file_extension": ".py",
   "mimetype": "text/x-python",
   "name": "python",
   "nbconvert_exporter": "python",
   "pygments_lexer": "ipython3",
   "version": "3.12.7"
  }
 },
 "nbformat": 4,
 "nbformat_minor": 2
}
